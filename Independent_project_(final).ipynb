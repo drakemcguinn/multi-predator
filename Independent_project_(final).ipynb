{
  "nbformat": 4,
  "nbformat_minor": 0,
  "metadata": {
    "colab": {
      "provenance": []
    },
    "kernelspec": {
      "name": "python3",
      "display_name": "Python 3"
    },
    "language_info": {
      "name": "python"
    }
  },
  "cells": [
    {
      "cell_type": "code",
      "execution_count": 2,
      "metadata": {
        "id": "lx6okJU1E5oQ"
      },
      "outputs": [],
      "source": [
        "import random as rd\n",
        "import numpy as np\n",
        "import math\n",
        "import matplotlib.pyplot as plt\n",
        "\n",
        "class Animal:\n",
        "  population_1 = []\n",
        "  def __init__(self, loc_x, loc_y, type_of):\n",
        "    self.x = loc_x\n",
        "    self.y = loc_y\n",
        "    self.species = type_of\n",
        "    self.location_x = [self.x]\n",
        "    self.location_y = [self.y]\n",
        "    self.alive = 'alive'\n",
        "    self.orientation = rd.randint(0,359)\n",
        "    self.turn = [135.0,270.0]\n",
        "    self.population_1.append(self)\n",
        "  def movement(self):\n",
        "        turn_chance = rd.randint(0, 20)\n",
        "        if turn_chance == 0:\n",
        "            self.orientation += 180\n",
        "        if self.species == 'predator_1':\n",
        "            angle = self.orientation + rd.randint(0, 40)\n",
        "            length = np.random.beta(0.2, 0.7)\n",
        "            new_location_x = float(self.location_x[-1] + np.cos(angle) * length)\n",
        "            new_location_y = float(self.location_y[-1] + np.sin(angle) * length)\n",
        "            if new_location_x > 9 or new_location_x < 0 or new_location_y > 4 or new_location_y < 0:\n",
        "                self.orientation += np.random.choice(self.turn)\n",
        "            else:\n",
        "                self.location_x.append(new_location_x)\n",
        "                self.location_y.append(new_location_y)\n",
        "        if self.species == 'predator_2':\n",
        "            angle = self.orientation + rd.randint(0, 40)\n",
        "            length = np.random.beta(0.2, 0.7)\n",
        "            new_location_x = float(self.location_x[-1] + np.cos(angle) * length)\n",
        "            new_location_y = float(self.location_y[-1] + np.sin(angle) * length)\n",
        "            if new_location_x > 9 or new_location_x < 0 or new_location_y > 9 or new_location_y < 5:\n",
        "                self.orientation += np.random.choice(self.turn)\n",
        "            else:\n",
        "                self.location_x.append(new_location_x)\n",
        "                self.location_y.append(new_location_y)\n",
        "        if self.species == 'prey' and self.alive == 'alive':\n",
        "            angle = self.orientation + rd.randint(0, 80)\n",
        "            length = np.random.beta(0.5, 0.5)\n",
        "            new_location_x = float(self.location_x[-1] + np.cos(angle) * length)\n",
        "            new_location_y = float(self.location_y[-1] + np.sin(angle) * length)\n",
        "            for i in range(len(Animal.population_1)):\n",
        "              if int(self.location_x[-1] +- 1) == int(self.population_1[i].location_x[-1]) and int(self.location_y[-1]) +- 1 == int(self.population_1[i].location_x[-1]) and self.population_1[i].species == 'Predator_1' or 'Predator_2':\n",
        "                chance_of_escape = .45\n",
        "                dice_2 = rd.uniform(0,10)\n",
        "                if chance_of_escape > dice_2:\n",
        "                  self.orientation += 180\n",
        "            if new_location_x > 9 or new_location_x < 0 or new_location_y > 9 or new_location_y < 0:\n",
        "                self.orientation += np.random.choice(self.turn)\n",
        "            else:\n",
        "                self.location_x.append(new_location_x)\n",
        "                self.location_y.append(new_location_y)\n",
        "  def predation(self, lethality):\n",
        "    if self.species == 'prey':\n",
        "      pass\n",
        "    else:\n",
        "      for i in range(len(self.population_1)):\n",
        "        if int(self.location_x[-1]) == int(self.population_1[i].location_x[-1]) and int(self.location_y[-1]) == int(self.population_1[i].location_y[-1]):\n",
        "          dice = rd.uniform(0,1)\n",
        "          if dice < lethality and self.population_1[i].species == 'prey':\n",
        "            self.population_1[i].alive = 'munched'\n",
        "          else:\n",
        "            self.orientation += 180\n",
        "            pass\n",
        "  def gone(self):\n",
        "      for j in range(len(self.population_1)-1,-1,-1):#count backwards\n",
        "        if self.population_1[j].alive == 'munched':\n",
        "          self.population_1.pop(j)\n",
        "        else:\n",
        "          pass\n",
        "  def reproduce(self, x_location, y_location):\n",
        "      return Animal(x_location, y_location, self.species)\n",
        "\n",
        "\n",
        "\n",
        "\n",
        "def run_sim_1():\n",
        "  Animal.population_1 = []\n",
        "  #simulation setup\n",
        "  shark = Animal(4, 3, 'predator_1')\n",
        "  tuna = Animal(4,7,'predator_2')\n",
        "  minnow = Animal(rd.randint(0,9),rd.randint(0,9), 'prey')\n",
        "\n",
        "  for i in range(1):\n",
        "    tuna.reproduce(7, 7)\n",
        "    shark.reproduce(7,3) #adjusted for prey density\n",
        "  for i in range(9):\n",
        "    minnow.reproduce(rd.randint(0,9),rd.randint(0,9))\n",
        "\n",
        "\n",
        "\n",
        "#simulation running\n",
        "  global time\n",
        "  global prey_pop_1\n",
        "  prey_pop_1 = []\n",
        "  time = []\n",
        "  num_prey_2 = 0\n",
        "  for time_step in range(100):\n",
        "    for animal in range(len(Animal.population_1)):\n",
        "      Animal.population_1[animal].movement()\n",
        "      Animal.population_1[animal].predation(.8)\n",
        "    Animal.population_1[animal].gone()\n",
        "    time.append(time_step)\n",
        "    for x in range(len(Animal.population_1)):\n",
        "      if Animal.population_1[x].species == 'prey':\n",
        "        num_prey_2 += 1\n",
        "    prey_pop_1.append(num_prey_2)\n",
        "    num_prey_2 = 0\n",
        "\n",
        "  global prey_final_1\n",
        "  prey_final_1 = prey_pop_1[-1]\n",
        "\n",
        "\n",
        "def run_sim_2():\n",
        "  Animal.population_1 = []\n",
        "  #simulation setup\n",
        "  shark = Animal(4, 3, 'predator_1')\n",
        "  minnow = Animal(rd.randint(0,9),rd.randint(0,9), 'prey')\n",
        "\n",
        "  for i in range(3):\n",
        "    shark.reproduce(7,3) #adjusted for prey density\n",
        "  for i in range(9):\n",
        "    minnow.reproduce(rd.randint(0,9),rd.randint(0,9))\n",
        "\n",
        "\n",
        "\n",
        "#simulation running\n",
        "  global time\n",
        "  global prey_pop_2\n",
        "  prey_pop_2 = []\n",
        "  time = []\n",
        "  num_prey_2 = 0\n",
        "  for time_step in range(100):\n",
        "    for animal in range(len(Animal.population_1)):\n",
        "      Animal.population_1[animal].movement()\n",
        "      Animal.population_1[animal].predation(.8)\n",
        "    Animal.population_1[animal].gone()\n",
        "    time.append(time_step)\n",
        "    for x in range(len(Animal.population_1)):\n",
        "      if Animal.population_1[x].species == 'prey':\n",
        "        num_prey_2 += 1\n",
        "    prey_pop_2.append(num_prey_2)\n",
        "    num_prey_2 = 0\n",
        "\n",
        "  global prey_final_2\n",
        "  prey_final_2 = prey_pop_2[-1]\n",
        "\n",
        "def run_sim_3():\n",
        "  Animal.population_1 = []\n",
        "  #simulation setup\n",
        "  tuna = Animal(4,7,'predator_2')\n",
        "  minnow = Animal(rd.randint(0,9),rd.randint(0,9), 'prey')\n",
        "\n",
        "  for i in range(3):\n",
        "    tuna.reproduce(7, 7)\n",
        "  for i in range(9):\n",
        "    minnow.reproduce(rd.randint(0,9),rd.randint(0,9))\n",
        "\n",
        "\n",
        "\n",
        "#simulation running\n",
        "  global time\n",
        "  global prey_pop_3\n",
        "  prey_pop_3 = []\n",
        "  time = []\n",
        "  num_prey_3 = 0\n",
        "  for time_step in range(100):\n",
        "    for animal in range(len(Animal.population_1)):\n",
        "      Animal.population_1[animal].movement()\n",
        "      Animal.population_1[animal].predation(.8)\n",
        "    Animal.population_1[animal].gone()\n",
        "    time.append(time_step)\n",
        "    for x in range(len(Animal.population_1)):\n",
        "      if Animal.population_1[x].species == 'prey':\n",
        "        num_prey_3 += 1\n",
        "    prey_pop_3.append(num_prey_3)\n",
        "    num_prey_3 = 0\n",
        "\n",
        "  global prey_final_3\n",
        "  prey_final_3 = prey_pop_3[-1]\n",
        "\n",
        "\n",
        "\n",
        "\n",
        "\n",
        "run_sim_3()\n",
        "run_sim_2()\n",
        "run_sim_1()"
      ]
    },
    {
      "cell_type": "code",
      "source": [
        "plt.plot(time, prey_pop_1, color = 'blue', label = 'Predator 1 and 2')\n",
        "plt.plot(time, prey_pop_2, color = 'red', label = 'Predator 1 only')\n",
        "plt.plot(time, prey_pop_3, color = 'green', label = 'Predator 2 only')\n",
        "plt.xlabel('Time')\n",
        "plt.ylabel('Prey Population')\n",
        "plt.legend()\n",
        "plt.show()\n"
      ],
      "metadata": {
        "colab": {
          "base_uri": "https://localhost:8080/",
          "height": 449
        },
        "id": "jOlCTwFCFjqV",
        "outputId": "923331ec-36bd-45ed-89a0-7319136e61d0"
      },
      "execution_count": 3,
      "outputs": [
        {
          "output_type": "display_data",
          "data": {
            "text/plain": [
              "<Figure size 640x480 with 1 Axes>"
            ],
            "image/png": "[encoded data removed]"
          },
          "metadata": {}
        }
      ]
    },
    {
      "cell_type": "code",
      "source": [
        "pop1 = []\n",
        "pop2 = []\n",
        "pop3 = []\n",
        "pop_errs = []\n",
        "\n",
        "\n",
        "for i in range(100):\n",
        "  run_sim_1()\n",
        "  pop1.append(prey_final_1)\n",
        "\n",
        "  run_sim_2()\n",
        "  pop2.append(prey_final_2)\n",
        "\n",
        "  run_sim_3()\n",
        "  pop3.append(prey_final_3)\n",
        "\n",
        "pop_errs.append(np.std(pop1))\n",
        "pop_errs.append(np.std(pop2))\n",
        "pop_errs.append(np.std(pop3))\n",
        "\n",
        "print('average number of prey in a simulation with both predators: ' + str(np.average(pop1)), 'standard deviation of set:' + str(np.std(pop1)))\n",
        "print('average number of prey in a simulation with one predator (1): ' + str(np.average(pop2)), 'standard deviation of set:' + str(np.std(pop2)))\n",
        "print('average number of prey in a simulation with one predator (2): ' + str(np.average(pop3)), 'standard deviation of set:' + str(np.std(pop3)))"
      ],
      "metadata": {
        "colab": {
          "base_uri": "https://localhost:8080/"
        },
        "id": "xHqzCbt2Gist",
        "outputId": "fbf96ca3-a4b1-4e90-8255-0126d73aebfe"
      },
      "execution_count": 4,
      "outputs": [
        {
          "output_type": "stream",
          "name": "stdout",
          "text": [
            "average number of prey in a simulation with both predators: 2.7 standard deviation of set:1.3453624047073711\n",
            "average number of prey in a simulation with one predator (1): 4.56 standard deviation of set:1.6511813952440235\n",
            "average number of prey in a simulation with one predator (2): 4.92 standard deviation of set:1.6773789077009404\n"
          ]
        }
      ]
    },
    {
      "cell_type": "code",
      "source": [
        "num_0_pop1 = 0\n",
        "num_0_pop2 = 0\n",
        "num_0_pop3 = 0\n",
        "for i in range(len(pop1)):\n",
        "  if pop1[i] == 0:\n",
        "    num_0_pop1 += 1\n",
        "\n",
        "for i in range(len(pop2)):\n",
        "  if pop2[i] == 0:\n",
        "    num_0_pop2 += 1\n",
        "\n",
        "for i in range(len(pop3)):\n",
        "  if pop3[i] == 0:\n",
        "    num_0_pop3 += 1\n",
        "print('number of extinction events: (both, 1,1 respectively): ', num_0_pop1, num_0_pop2, num_0_pop3)"
      ],
      "metadata": {
        "colab": {
          "base_uri": "https://localhost:8080/"
        },
        "id": "YXIWtvNmGoJX",
        "outputId": "64a8ad8f-a818-492f-c120-d03fc8a688ea"
      },
      "execution_count": 5,
      "outputs": [
        {
          "output_type": "stream",
          "name": "stdout",
          "text": [
            "number of extinction events: (both, 1,1 respectively):  1 1 0\n"
          ]
        }
      ]
    },
    {
      "cell_type": "code",
      "source": [
        "names = ['Both predators', 'Predator 1 only', 'Predator 2 only']\n",
        "plt.bar(names[0], np.average(pop1), color = 'blue', label = 'Both Predators')\n",
        "plt.errorbar(names[0], np.average(pop1), yerr= pop_errs[0], fmt = 'o', color = 'black')\n",
        "plt.bar(names[1], np.average(pop2),color = 'red', label = 'Predator 1 Only')\n",
        "plt.errorbar(names[1], np.average(pop2), yerr= pop_errs[1], fmt = 'o', color = 'black')\n",
        "plt.bar(names[2], np.average(pop3),color = 'green', label = 'One Predator 2 Only')\n",
        "plt.errorbar(names[2], np.average(pop3), yerr= pop_errs[2], fmt = 'o', color = 'black')\n",
        "plt.ylabel(' Average prey population')\n",
        "plt.xlabel('Predators in simulation')\n",
        "plt.title('Average prey population for 100 simulations')\n",
        "plt.show()"
      ],
      "metadata": {
        "colab": {
          "base_uri": "https://localhost:8080/",
          "height": 472
        },
        "id": "ceMW3M1tGpxM",
        "outputId": "396bb0a3-d5cb-433c-ba8d-070af8f90418"
      },
      "execution_count": 6,
      "outputs": [
        {
          "output_type": "display_data",
          "data": {
            "text/plain": [
              "<Figure size 640x480 with 1 Axes>"
            ],
            "image/png": "[encoded data removed]"
          },
          "metadata": {}
        }
      ]
    },
    {
      "cell_type": "code",
      "source": [
        "import scipy.stats as sp\n",
        "\n",
        "sp.f_oneway(pop1, pop2, pop3)"
      ],
      "metadata": {
        "colab": {
          "base_uri": "https://localhost:8080/"
        },
        "id": "kO8z2fyfG0RJ",
        "outputId": "3749d368-a3ce-4a2e-8c43-623872819166"
      },
      "execution_count": 7,
      "outputs": [
        {
          "output_type": "execute_result",
          "data": {
            "text/plain": [
              "F_onewayResult(statistic=57.36342857142856, pvalue=8.607300097891789e-22)"
            ]
          },
          "metadata": {},
          "execution_count": 7
        }
      ]
    }
  ]
}